{
 "cells": [
  {
   "cell_type": "markdown",
   "id": "994b9c49-f17e-4d46-9f5a-69ad96b3ac55",
   "metadata": {},
   "source": [
    "# IMPORT LIBRARY"
   ]
  },
  {
   "cell_type": "code",
   "execution_count": 2,
   "id": "c5ead9b8-e37f-4642-bea5-5fdb2b5d8b5d",
   "metadata": {},
   "outputs": [],
   "source": [
    "import tensorflow as tf"
   ]
  },
  {
   "cell_type": "markdown",
   "id": "5cda4c07-b23c-46bc-bfd6-98fe5a0babdf",
   "metadata": {},
   "source": [
    "# Buatlah sebuah tensor dengan shape(5,5) dengan nilai random yang disimpan dalam variable random_tensor"
   ]
  },
  {
   "cell_type": "code",
   "execution_count": 4,
   "id": "e47b0fcf-97b0-418e-9a22-336f58737f3e",
   "metadata": {},
   "outputs": [
    {
     "data": {
      "text/plain": [
       "<tf.Tensor: shape=(5, 5), dtype=float32, numpy=\n",
       "array([[-2.2673783 ,  0.5947161 , -1.0716033 ,  0.12887874, -1.6241169 ],\n",
       "       [-1.1072237 , -0.06681984, -0.96344835,  0.09568334,  0.5920073 ],\n",
       "       [-1.49651   , -1.0106903 , -1.8050754 ,  1.1555853 ,  0.323326  ],\n",
       "       [-1.535353  ,  0.49010277, -0.81873935, -2.491196  , -0.24670306],\n",
       "       [-0.44303843, -1.5578623 ,  0.14702404, -0.5202944 ,  1.2270253 ]],\n",
       "      dtype=float32)>"
      ]
     },
     "execution_count": 4,
     "metadata": {},
     "output_type": "execute_result"
    }
   ],
   "source": [
    "random_tensor = tf.random.normal([5,5])\n",
    "random_tensor"
   ]
  },
  {
   "cell_type": "markdown",
   "id": "bff87af2-d932-4d2b-8ecc-49c17c5300f3",
   "metadata": {},
   "source": [
    "# Buatlah sebuah tensor dengan shape(5,5) dari sebuah list dengan nilai bilangan prima dalam variable prime_tensor"
   ]
  },
  {
   "cell_type": "code",
   "execution_count": 5,
   "id": "2680565c-84f0-440b-ba70-613756d53b85",
   "metadata": {},
   "outputs": [
    {
     "data": {
      "text/plain": [
       "<tf.Tensor: shape=(5, 5), dtype=float32, numpy=\n",
       "array([[ 2.,  3.,  5.,  7., 11.],\n",
       "       [13., 17., 19., 23., 29.],\n",
       "       [31., 37., 41., 43., 47.],\n",
       "       [53., 59., 61., 67., 71.],\n",
       "       [73., 79., 83., 89., 97.]], dtype=float32)>"
      ]
     },
     "execution_count": 5,
     "metadata": {},
     "output_type": "execute_result"
    }
   ],
   "source": [
    "list = [[2, 3, 5, 7, 11],\n",
    "       [13, 17, 19, 23, 29],\n",
    "       [31, 37, 41, 43, 47],\n",
    "       [ 53, 59, 61, 67, 71],\n",
    "       [ 73, 79, 83, 89, 97]]\n",
    "prime_tensor = tf.convert_to_tensor(list, dtype=tf.float32)\n",
    "prime_tensor"
   ]
  },
  {
   "cell_type": "markdown",
   "id": "d5d30931-cab9-4fb8-afcc-c76f392a07b6",
   "metadata": {},
   "source": [
    "# Tampilkan dimensi dari kedua variable tersebut"
   ]
  },
  {
   "cell_type": "code",
   "execution_count": 7,
   "id": "6e77ada4-a4ce-470c-ad14-cc5b46bd3735",
   "metadata": {},
   "outputs": [
    {
     "name": "stdout",
     "output_type": "stream",
     "text": [
      "Dimensi Dari Variabel random_tensor :  (5, 5)\n",
      "Dimensi Dari Variabel random_tensor :  (5, 5)\n"
     ]
    }
   ],
   "source": [
    "print (\"Dimensi Dari Variabel random_tensor : \", random_tensor.shape)\n",
    "print (\"Dimensi Dari Variabel random_tensor : \", prime_tensor.shape)"
   ]
  },
  {
   "cell_type": "markdown",
   "id": "5c6db3ee-2f83-483a-9116-e0fdda7c330d",
   "metadata": {},
   "source": [
    "# Tampilkan hasil dari perhitungan aritmetika 2 variable tersebut (Gunakan minimal 5 operator)"
   ]
  },
  {
   "cell_type": "markdown",
   "id": "c88fb911-1044-4c9c-be97-84642a0903d3",
   "metadata": {},
   "source": [
    "#### Penjumlahan"
   ]
  },
  {
   "cell_type": "code",
   "execution_count": 12,
   "id": "8250a8bf-f27b-4e07-8319-0d6af14f8630",
   "metadata": {},
   "outputs": [
    {
     "data": {
      "text/plain": [
       "<tf.Tensor: shape=(5, 5), dtype=float32, numpy=\n",
       "array([[-0.26737833,  3.594716  ,  3.9283967 ,  7.1288786 ,  9.375883  ],\n",
       "       [11.8927765 , 16.93318   , 18.036552  , 23.095684  , 29.592007  ],\n",
       "       [29.50349   , 35.98931   , 39.194923  , 44.155586  , 47.323326  ],\n",
       "       [51.464645  , 59.490105  , 60.18126   , 64.508804  , 70.753296  ],\n",
       "       [72.55696   , 77.44214   , 83.147026  , 88.479706  , 98.22703   ]],\n",
       "      dtype=float32)>"
      ]
     },
     "execution_count": 12,
     "metadata": {},
     "output_type": "execute_result"
    }
   ],
   "source": [
    "tf.add(random_tensor,prime_tensor)"
   ]
  },
  {
   "cell_type": "markdown",
   "id": "db9f631b-8a04-450f-935b-d9b88a53d732",
   "metadata": {},
   "source": [
    "#### Pengurangan"
   ]
  },
  {
   "cell_type": "code",
   "execution_count": 14,
   "id": "d6952ab3-e6b4-4a40-bf65-511e6d77ed26",
   "metadata": {},
   "outputs": [
    {
     "data": {
      "text/plain": [
       "<tf.Tensor: shape=(5, 5), dtype=float32, numpy=\n",
       "array([[ -4.2673783,  -2.405284 ,  -6.0716033,  -6.8711214, -12.624117 ],\n",
       "       [-14.1072235, -17.06682  , -19.963448 , -22.904316 , -28.407993 ],\n",
       "       [-32.49651  , -38.01069  , -42.805077 , -41.844414 , -46.676674 ],\n",
       "       [-54.535355 , -58.509895 , -61.81874  , -69.491196 , -71.246704 ],\n",
       "       [-73.44304  , -80.55786  , -82.852974 , -89.520294 , -95.77297  ]],\n",
       "      dtype=float32)>"
      ]
     },
     "execution_count": 14,
     "metadata": {},
     "output_type": "execute_result"
    }
   ],
   "source": [
    "tf.subtract(random_tensor,prime_tensor)"
   ]
  },
  {
   "cell_type": "markdown",
   "id": "34fcf496-99de-4fb8-b030-bd6eafb36792",
   "metadata": {},
   "source": [
    "#### Perkalian"
   ]
  },
  {
   "cell_type": "code",
   "execution_count": 15,
   "id": "b929fedd-b39d-4eee-bd0b-f960fe2a8434",
   "metadata": {},
   "outputs": [
    {
     "data": {
      "text/plain": [
       "<tf.Tensor: shape=(5, 5), dtype=float32, numpy=\n",
       "array([[  -4.5347567,    1.7841482,   -5.3580165,    0.9021512,\n",
       "         -17.865286 ],\n",
       "       [ -14.3939085,   -1.1359372,  -18.30552  ,    2.200717 ,\n",
       "          17.168211 ],\n",
       "       [ -46.39181  ,  -37.395542 ,  -74.008095 ,   49.690166 ,\n",
       "          15.1963215],\n",
       "       [ -81.3737   ,   28.916063 ,  -49.9431   , -166.91013  ,\n",
       "         -17.515917 ],\n",
       "       [ -32.341805 , -123.07112  ,   12.202995 ,  -46.306206 ,\n",
       "         119.021454 ]], dtype=float32)>"
      ]
     },
     "execution_count": 15,
     "metadata": {},
     "output_type": "execute_result"
    }
   ],
   "source": [
    "tf.multiply(random_tensor,prime_tensor)"
   ]
  },
  {
   "cell_type": "markdown",
   "id": "6f75a4ae-0e58-4aa4-aa77-269175c63123",
   "metadata": {},
   "source": [
    "#### Pembagian"
   ]
  },
  {
   "cell_type": "code",
   "execution_count": 16,
   "id": "3ecddbe1-85ff-4532-9a0f-de4cb94d8772",
   "metadata": {},
   "outputs": [
    {
     "data": {
      "text/plain": [
       "<tf.Tensor: shape=(5, 5), dtype=float32, numpy=\n",
       "array([[-1.1336892 ,  0.19823869, -0.21432066,  0.01841125, -0.147647  ],\n",
       "       [-0.08517106, -0.00393058, -0.05070781,  0.00416015,  0.02041404],\n",
       "       [-0.04827452, -0.02731596, -0.04402623,  0.02687408,  0.00687928],\n",
       "       [-0.02896892,  0.00830683, -0.01342196, -0.03718203, -0.00347469],\n",
       "       [-0.00606902, -0.01971978,  0.00177137, -0.005846  ,  0.01264974]],\n",
       "      dtype=float32)>"
      ]
     },
     "execution_count": 16,
     "metadata": {},
     "output_type": "execute_result"
    }
   ],
   "source": [
    "tf.divide(random_tensor,prime_tensor)"
   ]
  },
  {
   "cell_type": "markdown",
   "id": "a24aab89-b79b-470e-a210-7839dee5e9f6",
   "metadata": {},
   "source": [
    "#### Pangkat"
   ]
  },
  {
   "cell_type": "code",
   "execution_count": 17,
   "id": "83d24320-7b8e-49da-aab7-a9a3c4268568",
   "metadata": {},
   "outputs": [
    {
     "data": {
      "text/plain": [
       "<tf.Tensor: shape=(5, 5), dtype=float32, numpy=\n",
       "array([[ 5.14100456e+00,  2.10343465e-01, -1.41309130e+00,\n",
       "         5.90566799e-07, -2.07391113e+02],\n",
       "       [-3.75889421e+00, -1.05533964e-20, -4.92878944e-01,\n",
       "         3.62439816e-24,  2.49737838e-07],\n",
       "       [-2.67589188e+05, -1.48207474e+00, -3.28329052e+10,\n",
       "         5.01748627e+02,  8.97654211e-24],\n",
       "       [-7.39666586e+09,  5.33263850e-19, -5.03368028e-06,\n",
       "        -3.62516853e+26, -0.00000000e+00],\n",
       "       [-1.54961001e-26, -1.62104830e+15,  0.00000000e+00,\n",
       "        -5.57412320e-26,  4.15709728e+08]], dtype=float32)>"
      ]
     },
     "execution_count": 17,
     "metadata": {},
     "output_type": "execute_result"
    }
   ],
   "source": [
    "tf.pow(random_tensor,prime_tensor)"
   ]
  },
  {
   "cell_type": "markdown",
   "id": "eb73f4d0-6880-4b72-83cd-200d285dce4c",
   "metadata": {},
   "source": [
    "# Tampilkan nilai maksimal dan minimal dari variable random_tensor"
   ]
  },
  {
   "cell_type": "code",
   "execution_count": 27,
   "id": "288c390a-68e2-4b5b-a95b-8a58031793d6",
   "metadata": {},
   "outputs": [
    {
     "name": "stdout",
     "output_type": "stream",
     "text": [
      "Nilai Maksimal Variabel random_tensor tf.Tensor([4 0 4 2 4], shape=(5,), dtype=int64)\n"
     ]
    }
   ],
   "source": [
    "print(\"Nilai Maksimal Variabel random_tensor\", tf.argmax(random_tensor))"
   ]
  },
  {
   "cell_type": "code",
   "execution_count": 26,
   "id": "703333bc-2929-486c-97ea-872504cfd887",
   "metadata": {},
   "outputs": [
    {
     "name": "stdout",
     "output_type": "stream",
     "text": [
      "Nilai Minimal Variabel random_tensor tf.Tensor([0 4 2 3 0], shape=(5,), dtype=int64)\n"
     ]
    }
   ],
   "source": [
    "print(\"Nilai Minimal Variabel random_tensor\", tf.argmin(random_tensor))"
   ]
  },
  {
   "cell_type": "markdown",
   "id": "aaca259b-43f6-438a-ab84-21fbddbc070f",
   "metadata": {},
   "source": [
    "# Tampilkan hasil dari penggabungan variable random_tensor dengan prime_tensor (concatenation)"
   ]
  },
  {
   "cell_type": "code",
   "execution_count": 30,
   "id": "d6c6a183-b778-41c9-a3b1-aeca1e31ca78",
   "metadata": {},
   "outputs": [
    {
     "name": "stdout",
     "output_type": "stream",
     "text": [
      "Penggabungan Berdasarkan Kolom\n"
     ]
    },
    {
     "data": {
      "text/plain": [
       "<tf.Tensor: shape=(10, 5), dtype=float32, numpy=\n",
       "array([[-2.2673783e+00,  5.9471607e-01, -1.0716033e+00,  1.2887874e-01,\n",
       "        -1.6241169e+00],\n",
       "       [-1.1072237e+00, -6.6819839e-02, -9.6344835e-01,  9.5683344e-02,\n",
       "         5.9200728e-01],\n",
       "       [-1.4965100e+00, -1.0106903e+00, -1.8050754e+00,  1.1555853e+00,\n",
       "         3.2332599e-01],\n",
       "       [-1.5353529e+00,  4.9010277e-01, -8.1873935e-01, -2.4911959e+00,\n",
       "        -2.4670306e-01],\n",
       "       [-4.4303843e-01, -1.5578623e+00,  1.4702404e-01, -5.2029443e-01,\n",
       "         1.2270253e+00],\n",
       "       [ 2.0000000e+00,  3.0000000e+00,  5.0000000e+00,  7.0000000e+00,\n",
       "         1.1000000e+01],\n",
       "       [ 1.3000000e+01,  1.7000000e+01,  1.9000000e+01,  2.3000000e+01,\n",
       "         2.9000000e+01],\n",
       "       [ 3.1000000e+01,  3.7000000e+01,  4.1000000e+01,  4.3000000e+01,\n",
       "         4.7000000e+01],\n",
       "       [ 5.3000000e+01,  5.9000000e+01,  6.1000000e+01,  6.7000000e+01,\n",
       "         7.1000000e+01],\n",
       "       [ 7.3000000e+01,  7.9000000e+01,  8.3000000e+01,  8.9000000e+01,\n",
       "         9.7000000e+01]], dtype=float32)>"
      ]
     },
     "execution_count": 30,
     "metadata": {},
     "output_type": "execute_result"
    }
   ],
   "source": [
    "print(\"Penggabungan Berdasarkan Kolom\")\n",
    "concatenation_col = tf.concat([random_tensor,prime_tensor],axis=0)\n",
    "concatenation_col"
   ]
  },
  {
   "cell_type": "code",
   "execution_count": 31,
   "id": "044b9d50-be90-40b2-bb9b-732e1601bbe6",
   "metadata": {},
   "outputs": [
    {
     "name": "stdout",
     "output_type": "stream",
     "text": [
      "Penggabungan Berdasarkan Baris\n"
     ]
    },
    {
     "data": {
      "text/plain": [
       "<tf.Tensor: shape=(5, 10), dtype=float32, numpy=\n",
       "array([[-2.2673783e+00,  5.9471607e-01, -1.0716033e+00,  1.2887874e-01,\n",
       "        -1.6241169e+00,  2.0000000e+00,  3.0000000e+00,  5.0000000e+00,\n",
       "         7.0000000e+00,  1.1000000e+01],\n",
       "       [-1.1072237e+00, -6.6819839e-02, -9.6344835e-01,  9.5683344e-02,\n",
       "         5.9200728e-01,  1.3000000e+01,  1.7000000e+01,  1.9000000e+01,\n",
       "         2.3000000e+01,  2.9000000e+01],\n",
       "       [-1.4965100e+00, -1.0106903e+00, -1.8050754e+00,  1.1555853e+00,\n",
       "         3.2332599e-01,  3.1000000e+01,  3.7000000e+01,  4.1000000e+01,\n",
       "         4.3000000e+01,  4.7000000e+01],\n",
       "       [-1.5353529e+00,  4.9010277e-01, -8.1873935e-01, -2.4911959e+00,\n",
       "        -2.4670306e-01,  5.3000000e+01,  5.9000000e+01,  6.1000000e+01,\n",
       "         6.7000000e+01,  7.1000000e+01],\n",
       "       [-4.4303843e-01, -1.5578623e+00,  1.4702404e-01, -5.2029443e-01,\n",
       "         1.2270253e+00,  7.3000000e+01,  7.9000000e+01,  8.3000000e+01,\n",
       "         8.9000000e+01,  9.7000000e+01]], dtype=float32)>"
      ]
     },
     "execution_count": 31,
     "metadata": {},
     "output_type": "execute_result"
    }
   ],
   "source": [
    "print(\"Penggabungan Berdasarkan Baris\")\n",
    "concatenation_row = tf.concat([random_tensor,prime_tensor],axis=1)\n",
    "concatenation_row"
   ]
  },
  {
   "cell_type": "markdown",
   "id": "26292135-f5af-41e2-9b74-ce6378ae6463",
   "metadata": {},
   "source": [
    "# Tampilkan hasil sorting dari kedua variable di atas. (descending)"
   ]
  },
  {
   "cell_type": "code",
   "execution_count": 32,
   "id": "1ad00db8-669e-42f3-8a13-72f9288dae57",
   "metadata": {},
   "outputs": [
    {
     "name": "stdout",
     "output_type": "stream",
     "text": [
      "Hasil Sorting random_tensor Secara Descending\n",
      "tf.Tensor(\n",
      "[[ 0.5947161   0.12887874 -1.0716033  -1.6241169  -2.2673783 ]\n",
      " [ 0.5920073   0.09568334 -0.06681984 -0.96344835 -1.1072237 ]\n",
      " [ 1.1555853   0.323326   -1.0106903  -1.49651    -1.8050754 ]\n",
      " [ 0.49010277 -0.24670306 -0.81873935 -1.535353   -2.491196  ]\n",
      " [ 1.2270253   0.14702404 -0.44303843 -0.5202944  -1.5578623 ]], shape=(5, 5), dtype=float32)\n",
      "\n",
      "\n",
      "Hasil Sorting prime_tensor Secara Descending\n",
      "tf.Tensor(\n",
      "[[11.  7.  5.  3.  2.]\n",
      " [29. 23. 19. 17. 13.]\n",
      " [47. 43. 41. 37. 31.]\n",
      " [71. 67. 61. 59. 53.]\n",
      " [97. 89. 83. 79. 73.]], shape=(5, 5), dtype=float32)\n"
     ]
    }
   ],
   "source": [
    "print(\"Hasil Sorting random_tensor Secara Descending\")\n",
    "print(tf.sort(random_tensor,direction=\"DESCENDING\"))\n",
    "print(\"\\n\")\n",
    "print(\"Hasil Sorting prime_tensor Secara Descending\")\n",
    "print(tf.sort(prime_tensor,direction=\"DESCENDING\"))"
   ]
  },
  {
   "cell_type": "code",
   "execution_count": null,
   "id": "03f612ef-d59f-40f1-83a5-9295c42380e2",
   "metadata": {},
   "outputs": [],
   "source": []
  }
 ],
 "metadata": {
  "kernelspec": {
   "display_name": "Python 3 (ipykernel)",
   "language": "python",
   "name": "python3"
  },
  "language_info": {
   "codemirror_mode": {
    "name": "ipython",
    "version": 3
   },
   "file_extension": ".py",
   "mimetype": "text/x-python",
   "name": "python",
   "nbconvert_exporter": "python",
   "pygments_lexer": "ipython3",
   "version": "3.10.7"
  }
 },
 "nbformat": 4,
 "nbformat_minor": 5
}
