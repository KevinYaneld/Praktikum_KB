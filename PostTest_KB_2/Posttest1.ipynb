{
 "cells": [
  {
   "cell_type": "markdown",
   "id": "35b044f2-2f35-486d-8b78-13481de1c9db",
   "metadata": {},
   "source": [
    "# IMPORT LIBRARY"
   ]
  },
  {
   "cell_type": "code",
   "execution_count": 5,
   "id": "fedb28f1-ffa5-47af-80d7-61e6ad8be581",
   "metadata": {},
   "outputs": [],
   "source": [
    "import pandas as pd\n",
    "import numpy as np"
   ]
  },
  {
   "cell_type": "markdown",
   "id": "cdb7f5a5-6cd6-49be-814d-57fb58cfb6e8",
   "metadata": {},
   "source": [
    "# MEMBUAT VARIABEL"
   ]
  },
  {
   "cell_type": "code",
   "execution_count": null,
   "id": "3a49cfc0-b2f4-49ca-a140-16301459bf09",
   "metadata": {},
   "outputs": [],
   "source": [
    "df = pd.read_csv(\"car_price_prediction.csv\")"
   ]
  },
  {
   "cell_type": "markdown",
   "id": "3017ed9e-a45e-4aba-a8e3-cb22f3d960e1",
   "metadata": {},
   "source": [
    "# MENGAMBIL INFORMASI"
   ]
  },
  {
   "cell_type": "code",
   "execution_count": 12,
   "id": "24092629-ec3e-40ec-9a98-8c3dff4cd64e",
   "metadata": {},
   "outputs": [],
   "source": [
    "info = {\n",
    "  'jumlah_record': 0,\n",
    "  'atribut': [],\n",
    "  'atribut_objek': 0,\n",
    "  'atribut_angka': 0,\n",
    "  'atribut_null': 0\n",
    "}\n",
    "\n",
    "info['jumlah_record'] = df.shape[0]\n",
    "info['atribut'] = list(df.columns.values)\n",
    "info['atribut_objek'] = list(df.select_dtypes(['object']).columns)\n",
    "info['atribut_angka'] = list(df.select_dtypes(['float64', 'int64']).columns)\n",
    "info['atribut_null'] = list(df.loc[:, df.isnull().any()].columns)"
   ]
  },
  {
   "cell_type": "markdown",
   "id": "a29e74a5-b534-49e2-ba07-a548b3ff50a7",
   "metadata": {},
   "source": [
    "# JUMLAH RECORD"
   ]
  },
  {
   "cell_type": "code",
   "execution_count": 13,
   "id": "f06dcf52-8b83-4ef7-b700-be19db0f18c4",
   "metadata": {},
   "outputs": [
    {
     "name": "stdout",
     "output_type": "stream",
     "text": [
      "Jumlah Record : 19237\n"
     ]
    }
   ],
   "source": [
    "print(\"Jumlah Record :\", info['jumlah_record'] )"
   ]
  },
  {
   "cell_type": "markdown",
   "id": "56eb5ec1-b0ee-426a-acf9-a173184e7d31",
   "metadata": {},
   "source": [
    "# NAMA ATRIBUT DAN JUMLAH ATRIBUT"
   ]
  },
  {
   "cell_type": "code",
   "execution_count": 14,
   "id": "5b010eef-b606-4e55-b878-bd80e2f2afd0",
   "metadata": {},
   "outputs": [
    {
     "name": "stdout",
     "output_type": "stream",
     "text": [
      "Atribut Yang Ada : ['ID', 'Price', 'Levy', 'Manufacturer', 'Model', 'Prod. year', 'Category', 'Leather interior', 'Fuel type', 'Engine volume', 'Mileage', 'Cylinders', 'Gear box type', 'Drive wheels', 'Doors', 'Wheel', 'Color', 'Airbags']\n",
      "Jumlah Atribut : 18\n"
     ]
    }
   ],
   "source": [
    "print(\"Atribut Yang Ada :\", info['atribut'])\n",
    "print(\"Jumlah Atribut :\", len(info['atribut']))"
   ]
  },
  {
   "cell_type": "markdown",
   "id": "f57458e5-4754-4437-9464-66dbfaa1952f",
   "metadata": {},
   "source": [
    "# ATRIBUT DENGAN TIPE OBJEK"
   ]
  },
  {
   "cell_type": "code",
   "execution_count": 22,
   "id": "00b8777e-2a0d-4d5a-a5e3-fae31bca22d4",
   "metadata": {},
   "outputs": [
    {
     "name": "stdout",
     "output_type": "stream",
     "text": [
      "Nama Atribut dengan Tipe Objek : ['Levy', 'Manufacturer', 'Model', 'Category', 'Leather interior', 'Fuel type', 'Engine volume', 'Mileage', 'Gear box type', 'Drive wheels', 'Doors', 'Wheel', 'Color']\n",
      "Jumlah Atribut Dengan Tipe Objek : 13\n"
     ]
    }
   ],
   "source": [
    "print(\"Nama Atribut Dengan Tipe Objek :\", info['atribut_objek'])\n",
    "print(\"Jumlah Atribut Dengan Tipe Objek :\", len(info['atribut_objek']))\n"
   ]
  },
  {
   "cell_type": "markdown",
   "id": "aaf1fd80-25f4-422d-9e79-b92eb9e9e0f9",
   "metadata": {},
   "source": [
    "# ATRIBUT DENGAN TIPE ANGKA"
   ]
  },
  {
   "cell_type": "code",
   "execution_count": 24,
   "id": "d39258c5-41da-4625-a38c-69eba7fec2cd",
   "metadata": {},
   "outputs": [
    {
     "name": "stdout",
     "output_type": "stream",
     "text": [
      "Nama Attribute Dengan Tipe Angka : ['ID', 'Price', 'Prod. year', 'Cylinders', 'Airbags']\n",
      "Jumlah Atribut Dengan Tipe Angka : 5\n"
     ]
    }
   ],
   "source": [
    "print(\"Nama Attribute Dengan Tipe Angka :\", info['atribut_angka'])\n",
    "print(\"Jumlah Atribut Dengan Tipe Angka :\", len(info['atribut_angka']))"
   ]
  },
  {
   "cell_type": "markdown",
   "id": "803197ab-61ed-4d38-870a-b3103ce9b135",
   "metadata": {},
   "source": [
    "# JUMLAH ATRIBUT DENGAN TIPE NULL"
   ]
  },
  {
   "cell_type": "code",
   "execution_count": 27,
   "id": "8c7d5e63-c566-4152-a2b9-ac1e8e360367",
   "metadata": {},
   "outputs": [
    {
     "name": "stdout",
     "output_type": "stream",
     "text": [
      "Nama Attribute yang Memiliki Nilai Null : []\n",
      "Jumlah Atirbut Yang Memiliki Nilai Null : 0\n"
     ]
    }
   ],
   "source": [
    "print(\"Nama Attribute yang Memiliki Nilai Null :\", info['atribut_null'])\n",
    "print(\"Jumlah Atirbut Yang Memiliki Nilai Null :\",len(info['atribut_null']))"
   ]
  },
  {
   "cell_type": "markdown",
   "id": "1fe647b0-a47d-4b6d-b116-08704ea91a77",
   "metadata": {},
   "source": [
    "# MENAMPILKAN NILAI RATA - RATA, STD, MIN, MAX, Q1, Q2, Q3"
   ]
  },
  {
   "cell_type": "code",
   "execution_count": 30,
   "id": "21b7cd01-0bbe-477b-8a77-bfbe47cfcbcf",
   "metadata": {},
   "outputs": [
    {
     "data": {
      "text/html": [
       "<div>\n",
       "<style scoped>\n",
       "    .dataframe tbody tr th:only-of-type {\n",
       "        vertical-align: middle;\n",
       "    }\n",
       "\n",
       "    .dataframe tbody tr th {\n",
       "        vertical-align: top;\n",
       "    }\n",
       "\n",
       "    .dataframe thead th {\n",
       "        text-align: right;\n",
       "    }\n",
       "</style>\n",
       "<table border=\"1\" class=\"dataframe\">\n",
       "  <thead>\n",
       "    <tr style=\"text-align: right;\">\n",
       "      <th></th>\n",
       "      <th>ID</th>\n",
       "      <th>Price</th>\n",
       "      <th>Prod. year</th>\n",
       "      <th>Cylinders</th>\n",
       "      <th>Airbags</th>\n",
       "    </tr>\n",
       "  </thead>\n",
       "  <tbody>\n",
       "    <tr>\n",
       "      <th>count</th>\n",
       "      <td>1.923700e+04</td>\n",
       "      <td>1.923700e+04</td>\n",
       "      <td>19237.000000</td>\n",
       "      <td>19237.000000</td>\n",
       "      <td>19237.000000</td>\n",
       "    </tr>\n",
       "    <tr>\n",
       "      <th>mean</th>\n",
       "      <td>4.557654e+07</td>\n",
       "      <td>1.855593e+04</td>\n",
       "      <td>2010.912824</td>\n",
       "      <td>4.582991</td>\n",
       "      <td>6.582627</td>\n",
       "    </tr>\n",
       "    <tr>\n",
       "      <th>std</th>\n",
       "      <td>9.365914e+05</td>\n",
       "      <td>1.905813e+05</td>\n",
       "      <td>5.668673</td>\n",
       "      <td>1.199933</td>\n",
       "      <td>4.320168</td>\n",
       "    </tr>\n",
       "    <tr>\n",
       "      <th>min</th>\n",
       "      <td>2.074688e+07</td>\n",
       "      <td>1.000000e+00</td>\n",
       "      <td>1939.000000</td>\n",
       "      <td>1.000000</td>\n",
       "      <td>0.000000</td>\n",
       "    </tr>\n",
       "    <tr>\n",
       "      <th>25%</th>\n",
       "      <td>4.569837e+07</td>\n",
       "      <td>5.331000e+03</td>\n",
       "      <td>2009.000000</td>\n",
       "      <td>4.000000</td>\n",
       "      <td>4.000000</td>\n",
       "    </tr>\n",
       "    <tr>\n",
       "      <th>50%</th>\n",
       "      <td>4.577231e+07</td>\n",
       "      <td>1.317200e+04</td>\n",
       "      <td>2012.000000</td>\n",
       "      <td>4.000000</td>\n",
       "      <td>6.000000</td>\n",
       "    </tr>\n",
       "    <tr>\n",
       "      <th>75%</th>\n",
       "      <td>4.580204e+07</td>\n",
       "      <td>2.207500e+04</td>\n",
       "      <td>2015.000000</td>\n",
       "      <td>4.000000</td>\n",
       "      <td>12.000000</td>\n",
       "    </tr>\n",
       "    <tr>\n",
       "      <th>max</th>\n",
       "      <td>4.581665e+07</td>\n",
       "      <td>2.630750e+07</td>\n",
       "      <td>2020.000000</td>\n",
       "      <td>16.000000</td>\n",
       "      <td>16.000000</td>\n",
       "    </tr>\n",
       "  </tbody>\n",
       "</table>\n",
       "</div>"
      ],
      "text/plain": [
       "                 ID         Price    Prod. year     Cylinders       Airbags\n",
       "count  1.923700e+04  1.923700e+04  19237.000000  19237.000000  19237.000000\n",
       "mean   4.557654e+07  1.855593e+04   2010.912824      4.582991      6.582627\n",
       "std    9.365914e+05  1.905813e+05      5.668673      1.199933      4.320168\n",
       "min    2.074688e+07  1.000000e+00   1939.000000      1.000000      0.000000\n",
       "25%    4.569837e+07  5.331000e+03   2009.000000      4.000000      4.000000\n",
       "50%    4.577231e+07  1.317200e+04   2012.000000      4.000000      6.000000\n",
       "75%    4.580204e+07  2.207500e+04   2015.000000      4.000000     12.000000\n",
       "max    4.581665e+07  2.630750e+07   2020.000000     16.000000     16.000000"
      ]
     },
     "execution_count": 30,
     "metadata": {},
     "output_type": "execute_result"
    }
   ],
   "source": [
    "df.describe()"
   ]
  },
  {
   "cell_type": "markdown",
   "id": "204dcddf-e5a5-43f5-a2b5-6f4f4e1cf592",
   "metadata": {},
   "source": [
    "# MENAMPILKAN NILAI KORELASI BERTIPE ANGKA"
   ]
  },
  {
   "cell_type": "code",
   "execution_count": 32,
   "id": "060e69b8-00d1-4c18-99f1-6dd39ce9fc52",
   "metadata": {},
   "outputs": [
    {
     "name": "stderr",
     "output_type": "stream",
     "text": [
      "C:\\Users\\KYC\\AppData\\Local\\Temp\\ipykernel_15440\\1134722465.py:1: FutureWarning: The default value of numeric_only in DataFrame.corr is deprecated. In a future version, it will default to False. Select only valid columns or specify the value of numeric_only to silence this warning.\n",
      "  df.corr()\n"
     ]
    },
    {
     "data": {
      "text/html": [
       "<div>\n",
       "<style scoped>\n",
       "    .dataframe tbody tr th:only-of-type {\n",
       "        vertical-align: middle;\n",
       "    }\n",
       "\n",
       "    .dataframe tbody tr th {\n",
       "        vertical-align: top;\n",
       "    }\n",
       "\n",
       "    .dataframe thead th {\n",
       "        text-align: right;\n",
       "    }\n",
       "</style>\n",
       "<table border=\"1\" class=\"dataframe\">\n",
       "  <thead>\n",
       "    <tr style=\"text-align: right;\">\n",
       "      <th></th>\n",
       "      <th>ID</th>\n",
       "      <th>Price</th>\n",
       "      <th>Prod. year</th>\n",
       "      <th>Cylinders</th>\n",
       "      <th>Airbags</th>\n",
       "    </tr>\n",
       "  </thead>\n",
       "  <tbody>\n",
       "    <tr>\n",
       "      <th>ID</th>\n",
       "      <td>1.000000</td>\n",
       "      <td>-0.000844</td>\n",
       "      <td>0.071352</td>\n",
       "      <td>-0.039319</td>\n",
       "      <td>-0.020527</td>\n",
       "    </tr>\n",
       "    <tr>\n",
       "      <th>Price</th>\n",
       "      <td>-0.000844</td>\n",
       "      <td>1.000000</td>\n",
       "      <td>0.012982</td>\n",
       "      <td>0.007518</td>\n",
       "      <td>-0.012824</td>\n",
       "    </tr>\n",
       "    <tr>\n",
       "      <th>Prod. year</th>\n",
       "      <td>0.071352</td>\n",
       "      <td>0.012982</td>\n",
       "      <td>1.000000</td>\n",
       "      <td>-0.096797</td>\n",
       "      <td>0.236969</td>\n",
       "    </tr>\n",
       "    <tr>\n",
       "      <th>Cylinders</th>\n",
       "      <td>-0.039319</td>\n",
       "      <td>0.007518</td>\n",
       "      <td>-0.096797</td>\n",
       "      <td>1.000000</td>\n",
       "      <td>0.176868</td>\n",
       "    </tr>\n",
       "    <tr>\n",
       "      <th>Airbags</th>\n",
       "      <td>-0.020527</td>\n",
       "      <td>-0.012824</td>\n",
       "      <td>0.236969</td>\n",
       "      <td>0.176868</td>\n",
       "      <td>1.000000</td>\n",
       "    </tr>\n",
       "  </tbody>\n",
       "</table>\n",
       "</div>"
      ],
      "text/plain": [
       "                  ID     Price  Prod. year  Cylinders   Airbags\n",
       "ID          1.000000 -0.000844    0.071352  -0.039319 -0.020527\n",
       "Price      -0.000844  1.000000    0.012982   0.007518 -0.012824\n",
       "Prod. year  0.071352  0.012982    1.000000  -0.096797  0.236969\n",
       "Cylinders  -0.039319  0.007518   -0.096797   1.000000  0.176868\n",
       "Airbags    -0.020527 -0.012824    0.236969   0.176868  1.000000"
      ]
     },
     "execution_count": 32,
     "metadata": {},
     "output_type": "execute_result"
    }
   ],
   "source": [
    "df.corr()"
   ]
  },
  {
   "cell_type": "markdown",
   "id": "8d948c92-e103-442f-9273-30abb9269a7e",
   "metadata": {},
   "source": [
    "# MENGUBAH TIPE DATA ATRIBUT DARI INTEGER MENJADI FLOAT"
   ]
  },
  {
   "cell_type": "markdown",
   "id": "f6768bbd-5af2-4fb9-b4a2-7c32721a6400",
   "metadata": {},
   "source": [
    "<h5> TYPE DATA AWAL"
   ]
  },
  {
   "cell_type": "code",
   "execution_count": 34,
   "id": "8ad3e2c3-0f9e-4e2c-8f8f-f05dbf016a4d",
   "metadata": {},
   "outputs": [
    {
     "data": {
      "text/plain": [
       "ID                    int64\n",
       "Price                 int64\n",
       "Levy                 object\n",
       "Manufacturer         object\n",
       "Model                object\n",
       "Prod. year            int64\n",
       "Category             object\n",
       "Leather interior     object\n",
       "Fuel type            object\n",
       "Engine volume        object\n",
       "Mileage              object\n",
       "Cylinders           float64\n",
       "Gear box type        object\n",
       "Drive wheels         object\n",
       "Doors                object\n",
       "Wheel                object\n",
       "Color                object\n",
       "Airbags               int64\n",
       "dtype: object"
      ]
     },
     "execution_count": 34,
     "metadata": {},
     "output_type": "execute_result"
    }
   ],
   "source": [
    "df.dtypes"
   ]
  },
  {
   "cell_type": "markdown",
   "id": "40115e30-cd52-43a1-9a2a-05ab87b838a4",
   "metadata": {},
   "source": [
    "<h5> MENGUBAH PRICE DARI INTEGER KE FLOAT"
   ]
  },
  {
   "cell_type": "code",
   "execution_count": 36,
   "id": "493eb97f-e852-4230-8247-f7e028057012",
   "metadata": {},
   "outputs": [],
   "source": [
    "df[\"Price\"] = df[\"Price\"].astype(\"float64\")"
   ]
  },
  {
   "cell_type": "markdown",
   "id": "64517e09-cfcf-4298-9455-39aabe315ae6",
   "metadata": {},
   "source": [
    "<h5> TYPE DATA AKHIR"
   ]
  },
  {
   "cell_type": "code",
   "execution_count": 37,
   "id": "55918b12-34a2-4932-846c-e1072b499f44",
   "metadata": {},
   "outputs": [
    {
     "data": {
      "text/plain": [
       "ID                    int64\n",
       "Price               float64\n",
       "Levy                 object\n",
       "Manufacturer         object\n",
       "Model                object\n",
       "Prod. year            int64\n",
       "Category             object\n",
       "Leather interior     object\n",
       "Fuel type            object\n",
       "Engine volume        object\n",
       "Mileage              object\n",
       "Cylinders           float64\n",
       "Gear box type        object\n",
       "Drive wheels         object\n",
       "Doors                object\n",
       "Wheel                object\n",
       "Color                object\n",
       "Airbags               int64\n",
       "dtype: object"
      ]
     },
     "execution_count": 37,
     "metadata": {},
     "output_type": "execute_result"
    }
   ],
   "source": [
    "df.dtypes"
   ]
  },
  {
   "cell_type": "code",
   "execution_count": 38,
   "id": "2878271b-8e02-4985-883f-a8c753dabba8",
   "metadata": {},
   "outputs": [
    {
     "data": {
      "text/html": [
       "<div>\n",
       "<style scoped>\n",
       "    .dataframe tbody tr th:only-of-type {\n",
       "        vertical-align: middle;\n",
       "    }\n",
       "\n",
       "    .dataframe tbody tr th {\n",
       "        vertical-align: top;\n",
       "    }\n",
       "\n",
       "    .dataframe thead th {\n",
       "        text-align: right;\n",
       "    }\n",
       "</style>\n",
       "<table border=\"1\" class=\"dataframe\">\n",
       "  <thead>\n",
       "    <tr style=\"text-align: right;\">\n",
       "      <th></th>\n",
       "      <th>ID</th>\n",
       "      <th>Price</th>\n",
       "      <th>Levy</th>\n",
       "      <th>Manufacturer</th>\n",
       "      <th>Model</th>\n",
       "      <th>Prod. year</th>\n",
       "      <th>Category</th>\n",
       "      <th>Leather interior</th>\n",
       "      <th>Fuel type</th>\n",
       "      <th>Engine volume</th>\n",
       "      <th>Mileage</th>\n",
       "      <th>Cylinders</th>\n",
       "      <th>Gear box type</th>\n",
       "      <th>Drive wheels</th>\n",
       "      <th>Doors</th>\n",
       "      <th>Wheel</th>\n",
       "      <th>Color</th>\n",
       "      <th>Airbags</th>\n",
       "    </tr>\n",
       "  </thead>\n",
       "  <tbody>\n",
       "    <tr>\n",
       "      <th>0</th>\n",
       "      <td>45654403</td>\n",
       "      <td>13328.0</td>\n",
       "      <td>1399</td>\n",
       "      <td>LEXUS</td>\n",
       "      <td>RX 450</td>\n",
       "      <td>2010</td>\n",
       "      <td>Jeep</td>\n",
       "      <td>Yes</td>\n",
       "      <td>Hybrid</td>\n",
       "      <td>3.5</td>\n",
       "      <td>186005 km</td>\n",
       "      <td>6.0</td>\n",
       "      <td>Automatic</td>\n",
       "      <td>4x4</td>\n",
       "      <td>04-May</td>\n",
       "      <td>Left wheel</td>\n",
       "      <td>Silver</td>\n",
       "      <td>12</td>\n",
       "    </tr>\n",
       "    <tr>\n",
       "      <th>1</th>\n",
       "      <td>44731507</td>\n",
       "      <td>16621.0</td>\n",
       "      <td>1018</td>\n",
       "      <td>CHEVROLET</td>\n",
       "      <td>Equinox</td>\n",
       "      <td>2011</td>\n",
       "      <td>Jeep</td>\n",
       "      <td>No</td>\n",
       "      <td>Petrol</td>\n",
       "      <td>3</td>\n",
       "      <td>192000 km</td>\n",
       "      <td>6.0</td>\n",
       "      <td>Tiptronic</td>\n",
       "      <td>4x4</td>\n",
       "      <td>04-May</td>\n",
       "      <td>Left wheel</td>\n",
       "      <td>Black</td>\n",
       "      <td>8</td>\n",
       "    </tr>\n",
       "    <tr>\n",
       "      <th>2</th>\n",
       "      <td>45774419</td>\n",
       "      <td>8467.0</td>\n",
       "      <td>-</td>\n",
       "      <td>HONDA</td>\n",
       "      <td>FIT</td>\n",
       "      <td>2006</td>\n",
       "      <td>Hatchback</td>\n",
       "      <td>No</td>\n",
       "      <td>Petrol</td>\n",
       "      <td>1.3</td>\n",
       "      <td>200000 km</td>\n",
       "      <td>4.0</td>\n",
       "      <td>Variator</td>\n",
       "      <td>Front</td>\n",
       "      <td>04-May</td>\n",
       "      <td>Right-hand drive</td>\n",
       "      <td>Black</td>\n",
       "      <td>2</td>\n",
       "    </tr>\n",
       "    <tr>\n",
       "      <th>3</th>\n",
       "      <td>45769185</td>\n",
       "      <td>3607.0</td>\n",
       "      <td>862</td>\n",
       "      <td>FORD</td>\n",
       "      <td>Escape</td>\n",
       "      <td>2011</td>\n",
       "      <td>Jeep</td>\n",
       "      <td>Yes</td>\n",
       "      <td>Hybrid</td>\n",
       "      <td>2.5</td>\n",
       "      <td>168966 km</td>\n",
       "      <td>4.0</td>\n",
       "      <td>Automatic</td>\n",
       "      <td>4x4</td>\n",
       "      <td>04-May</td>\n",
       "      <td>Left wheel</td>\n",
       "      <td>White</td>\n",
       "      <td>0</td>\n",
       "    </tr>\n",
       "    <tr>\n",
       "      <th>4</th>\n",
       "      <td>45809263</td>\n",
       "      <td>11726.0</td>\n",
       "      <td>446</td>\n",
       "      <td>HONDA</td>\n",
       "      <td>FIT</td>\n",
       "      <td>2014</td>\n",
       "      <td>Hatchback</td>\n",
       "      <td>Yes</td>\n",
       "      <td>Petrol</td>\n",
       "      <td>1.3</td>\n",
       "      <td>91901 km</td>\n",
       "      <td>4.0</td>\n",
       "      <td>Automatic</td>\n",
       "      <td>Front</td>\n",
       "      <td>04-May</td>\n",
       "      <td>Left wheel</td>\n",
       "      <td>Silver</td>\n",
       "      <td>4</td>\n",
       "    </tr>\n",
       "    <tr>\n",
       "      <th>5</th>\n",
       "      <td>45802912</td>\n",
       "      <td>39493.0</td>\n",
       "      <td>891</td>\n",
       "      <td>HYUNDAI</td>\n",
       "      <td>Santa FE</td>\n",
       "      <td>2016</td>\n",
       "      <td>Jeep</td>\n",
       "      <td>Yes</td>\n",
       "      <td>Diesel</td>\n",
       "      <td>2</td>\n",
       "      <td>160931 km</td>\n",
       "      <td>4.0</td>\n",
       "      <td>Automatic</td>\n",
       "      <td>Front</td>\n",
       "      <td>04-May</td>\n",
       "      <td>Left wheel</td>\n",
       "      <td>White</td>\n",
       "      <td>4</td>\n",
       "    </tr>\n",
       "    <tr>\n",
       "      <th>6</th>\n",
       "      <td>45656768</td>\n",
       "      <td>1803.0</td>\n",
       "      <td>761</td>\n",
       "      <td>TOYOTA</td>\n",
       "      <td>Prius</td>\n",
       "      <td>2010</td>\n",
       "      <td>Hatchback</td>\n",
       "      <td>Yes</td>\n",
       "      <td>Hybrid</td>\n",
       "      <td>1.8</td>\n",
       "      <td>258909 km</td>\n",
       "      <td>4.0</td>\n",
       "      <td>Automatic</td>\n",
       "      <td>Front</td>\n",
       "      <td>04-May</td>\n",
       "      <td>Left wheel</td>\n",
       "      <td>White</td>\n",
       "      <td>12</td>\n",
       "    </tr>\n",
       "    <tr>\n",
       "      <th>7</th>\n",
       "      <td>45816158</td>\n",
       "      <td>549.0</td>\n",
       "      <td>751</td>\n",
       "      <td>HYUNDAI</td>\n",
       "      <td>Sonata</td>\n",
       "      <td>2013</td>\n",
       "      <td>Sedan</td>\n",
       "      <td>Yes</td>\n",
       "      <td>Petrol</td>\n",
       "      <td>2.4</td>\n",
       "      <td>216118 km</td>\n",
       "      <td>4.0</td>\n",
       "      <td>Automatic</td>\n",
       "      <td>Front</td>\n",
       "      <td>04-May</td>\n",
       "      <td>Left wheel</td>\n",
       "      <td>Grey</td>\n",
       "      <td>12</td>\n",
       "    </tr>\n",
       "    <tr>\n",
       "      <th>8</th>\n",
       "      <td>45641395</td>\n",
       "      <td>1098.0</td>\n",
       "      <td>394</td>\n",
       "      <td>TOYOTA</td>\n",
       "      <td>Camry</td>\n",
       "      <td>2014</td>\n",
       "      <td>Sedan</td>\n",
       "      <td>Yes</td>\n",
       "      <td>Hybrid</td>\n",
       "      <td>2.5</td>\n",
       "      <td>398069 km</td>\n",
       "      <td>4.0</td>\n",
       "      <td>Automatic</td>\n",
       "      <td>Front</td>\n",
       "      <td>04-May</td>\n",
       "      <td>Left wheel</td>\n",
       "      <td>Black</td>\n",
       "      <td>12</td>\n",
       "    </tr>\n",
       "    <tr>\n",
       "      <th>9</th>\n",
       "      <td>45756839</td>\n",
       "      <td>26657.0</td>\n",
       "      <td>-</td>\n",
       "      <td>LEXUS</td>\n",
       "      <td>RX 350</td>\n",
       "      <td>2007</td>\n",
       "      <td>Jeep</td>\n",
       "      <td>Yes</td>\n",
       "      <td>Petrol</td>\n",
       "      <td>3.5</td>\n",
       "      <td>128500 km</td>\n",
       "      <td>6.0</td>\n",
       "      <td>Automatic</td>\n",
       "      <td>4x4</td>\n",
       "      <td>04-May</td>\n",
       "      <td>Left wheel</td>\n",
       "      <td>Silver</td>\n",
       "      <td>12</td>\n",
       "    </tr>\n",
       "  </tbody>\n",
       "</table>\n",
       "</div>"
      ],
      "text/plain": [
       "         ID    Price  Levy Manufacturer     Model  Prod. year   Category  \\\n",
       "0  45654403  13328.0  1399        LEXUS    RX 450        2010       Jeep   \n",
       "1  44731507  16621.0  1018    CHEVROLET   Equinox        2011       Jeep   \n",
       "2  45774419   8467.0     -        HONDA       FIT        2006  Hatchback   \n",
       "3  45769185   3607.0   862         FORD    Escape        2011       Jeep   \n",
       "4  45809263  11726.0   446        HONDA       FIT        2014  Hatchback   \n",
       "5  45802912  39493.0   891      HYUNDAI  Santa FE        2016       Jeep   \n",
       "6  45656768   1803.0   761       TOYOTA     Prius        2010  Hatchback   \n",
       "7  45816158    549.0   751      HYUNDAI    Sonata        2013      Sedan   \n",
       "8  45641395   1098.0   394       TOYOTA     Camry        2014      Sedan   \n",
       "9  45756839  26657.0     -        LEXUS    RX 350        2007       Jeep   \n",
       "\n",
       "  Leather interior Fuel type Engine volume    Mileage  Cylinders  \\\n",
       "0              Yes    Hybrid           3.5  186005 km        6.0   \n",
       "1               No    Petrol             3  192000 km        6.0   \n",
       "2               No    Petrol           1.3  200000 km        4.0   \n",
       "3              Yes    Hybrid           2.5  168966 km        4.0   \n",
       "4              Yes    Petrol           1.3   91901 km        4.0   \n",
       "5              Yes    Diesel             2  160931 km        4.0   \n",
       "6              Yes    Hybrid           1.8  258909 km        4.0   \n",
       "7              Yes    Petrol           2.4  216118 km        4.0   \n",
       "8              Yes    Hybrid           2.5  398069 km        4.0   \n",
       "9              Yes    Petrol           3.5  128500 km        6.0   \n",
       "\n",
       "  Gear box type Drive wheels   Doors             Wheel   Color  Airbags  \n",
       "0     Automatic          4x4  04-May        Left wheel  Silver       12  \n",
       "1     Tiptronic          4x4  04-May        Left wheel   Black        8  \n",
       "2      Variator        Front  04-May  Right-hand drive   Black        2  \n",
       "3     Automatic          4x4  04-May        Left wheel   White        0  \n",
       "4     Automatic        Front  04-May        Left wheel  Silver        4  \n",
       "5     Automatic        Front  04-May        Left wheel   White        4  \n",
       "6     Automatic        Front  04-May        Left wheel   White       12  \n",
       "7     Automatic        Front  04-May        Left wheel    Grey       12  \n",
       "8     Automatic        Front  04-May        Left wheel   Black       12  \n",
       "9     Automatic          4x4  04-May        Left wheel  Silver       12  "
      ]
     },
     "execution_count": 38,
     "metadata": {},
     "output_type": "execute_result"
    }
   ],
   "source": [
    "df.head(10)"
   ]
  },
  {
   "cell_type": "markdown",
   "id": "a773b5e1-6d97-4981-b890-2480b7a2d439",
   "metadata": {},
   "source": [
    "# MENAMPILKAN 10 RECORD PERTAMA ATRIBUT ANGKA"
   ]
  },
  {
   "cell_type": "code",
   "execution_count": 39,
   "id": "0c266fab-095f-4c20-83a7-1693b17128f3",
   "metadata": {},
   "outputs": [
    {
     "data": {
      "text/html": [
       "<div>\n",
       "<style scoped>\n",
       "    .dataframe tbody tr th:only-of-type {\n",
       "        vertical-align: middle;\n",
       "    }\n",
       "\n",
       "    .dataframe tbody tr th {\n",
       "        vertical-align: top;\n",
       "    }\n",
       "\n",
       "    .dataframe thead th {\n",
       "        text-align: right;\n",
       "    }\n",
       "</style>\n",
       "<table border=\"1\" class=\"dataframe\">\n",
       "  <thead>\n",
       "    <tr style=\"text-align: right;\">\n",
       "      <th></th>\n",
       "      <th>ID</th>\n",
       "      <th>Price</th>\n",
       "      <th>Prod. year</th>\n",
       "      <th>Cylinders</th>\n",
       "      <th>Airbags</th>\n",
       "    </tr>\n",
       "  </thead>\n",
       "  <tbody>\n",
       "    <tr>\n",
       "      <th>0</th>\n",
       "      <td>45654403</td>\n",
       "      <td>13328.0</td>\n",
       "      <td>2010</td>\n",
       "      <td>6.0</td>\n",
       "      <td>12</td>\n",
       "    </tr>\n",
       "    <tr>\n",
       "      <th>1</th>\n",
       "      <td>44731507</td>\n",
       "      <td>16621.0</td>\n",
       "      <td>2011</td>\n",
       "      <td>6.0</td>\n",
       "      <td>8</td>\n",
       "    </tr>\n",
       "    <tr>\n",
       "      <th>2</th>\n",
       "      <td>45774419</td>\n",
       "      <td>8467.0</td>\n",
       "      <td>2006</td>\n",
       "      <td>4.0</td>\n",
       "      <td>2</td>\n",
       "    </tr>\n",
       "    <tr>\n",
       "      <th>3</th>\n",
       "      <td>45769185</td>\n",
       "      <td>3607.0</td>\n",
       "      <td>2011</td>\n",
       "      <td>4.0</td>\n",
       "      <td>0</td>\n",
       "    </tr>\n",
       "    <tr>\n",
       "      <th>4</th>\n",
       "      <td>45809263</td>\n",
       "      <td>11726.0</td>\n",
       "      <td>2014</td>\n",
       "      <td>4.0</td>\n",
       "      <td>4</td>\n",
       "    </tr>\n",
       "  </tbody>\n",
       "</table>\n",
       "</div>"
      ],
      "text/plain": [
       "         ID    Price  Prod. year  Cylinders  Airbags\n",
       "0  45654403  13328.0        2010        6.0       12\n",
       "1  44731507  16621.0        2011        6.0        8\n",
       "2  45774419   8467.0        2006        4.0        2\n",
       "3  45769185   3607.0        2011        4.0        0\n",
       "4  45809263  11726.0        2014        4.0        4"
      ]
     },
     "execution_count": 39,
     "metadata": {},
     "output_type": "execute_result"
    }
   ],
   "source": [
    "df_angka = df.select_dtypes(include=np.number)\n",
    "df_angka.head()"
   ]
  },
  {
   "cell_type": "markdown",
   "id": "18c7037d-d383-4ea9-bebd-3abbc3b8231f",
   "metadata": {},
   "source": [
    "# MENYIMPAN DATASET BERTIPE ANGKA KE CSV"
   ]
  },
  {
   "cell_type": "code",
   "execution_count": 47,
   "id": "95ed7e00-8ea8-4ebb-970d-7c62377d2e28",
   "metadata": {},
   "outputs": [],
   "source": [
    "df_angka.to_csv(\"dataset_angka.csv\")"
   ]
  },
  {
   "cell_type": "code",
   "execution_count": null,
   "id": "c9609215-eab8-4f14-a4b8-7f2be15686a4",
   "metadata": {},
   "outputs": [],
   "source": []
  }
 ],
 "metadata": {
  "kernelspec": {
   "display_name": "Python 3 (ipykernel)",
   "language": "python",
   "name": "python3"
  },
  "language_info": {
   "codemirror_mode": {
    "name": "ipython",
    "version": 3
   },
   "file_extension": ".py",
   "mimetype": "text/x-python",
   "name": "python",
   "nbconvert_exporter": "python",
   "pygments_lexer": "ipython3",
   "version": "3.10.7"
  }
 },
 "nbformat": 4,
 "nbformat_minor": 5
}
